{
 "cells": [
  {
   "cell_type": "markdown",
   "metadata": {},
   "source": [
    "### GRADIENT DESCENT\n",
    "I have implemented a vanilla gradient descent method in step_gradient function. \n",
    "\n",
    "I have also added 2 different modifications to the vanilla gradient descent optimizer. I have added an early stopping feature, which can be controlled by **early_stop_number** parameter and also I have added adaptive learning rate, through which the learning rate increases by .00002 everytime the error value decreases consecutively for more than 3 times. This aims to increase the computational speed. This feature can be controlled via the **modify_lr** flag."
   ]
  },
  {
   "cell_type": "code",
   "execution_count": 1,
   "metadata": {
    "collapsed": true
   },
   "outputs": [],
   "source": [
    "import data_parser as dp #Load in the parser script\n",
    "import matplotlib.pylab as plt #For data visualization\n",
    "\n",
    "def compute_total_error(b,m,points): #Computes total mean squared error\n",
    "    totalError = 0\n",
    "    for i in range(len(points)):\n",
    "        x = points[i,0]\n",
    "        y = points[i,1]\n",
    "        totalError += (y - (m * x + b)) ** 2 #Error is calculated as y' = mx + b(Assuming linear regression) so E = (y-y')^2, summed over all points\n",
    "\n",
    "    return totalError/float(len(points)) #Returning the mean squared error.\n",
    "\n",
    "def step_gradient(curr_m, curr_b, points, lr): #Gradient Descent Function.\n",
    "    dt_db = 0 #Initialize the partial derivative w.r.t b\n",
    "    dt_dm = 0 #Initialize the partial derivative w.r.t m\n",
    "    for i in range(len(points)):\n",
    "        x = points[i,0]\n",
    "        y = points[i,1]\n",
    "        t = y - (curr_m*x + curr_b) #find t = (y - (m*x + b))\n",
    "        dt_dm += -1 * x * t #dt/dm = -x*t\n",
    "        dt_db += -1 * t # dt/db = -1*t\n",
    "\n",
    "    dt_dm = (2*dt_dm)/float(len(points))\n",
    "    dt_db = (2*dt_db)/float(len(points)) #Calculating the average derivative over all points. 2 is a common multiple which is obtained due to chain rule of differentiation and so for computational speed is multiplied in the end.\n",
    "\n",
    "    m = curr_m - (lr * dt_dm) #Reseting the m, b value as per the derivative\n",
    "    b = curr_b - (lr * dt_db)\n",
    "\n",
    "    return [m,b]\n",
    "\n",
    "def gradient_descent_driver(points, start_m, start_b, lr, num_iterations, early_stop_number = 0, modify_lr = False):# The gradient_descent driver function. Controls the number of iterations and also other descent features like early stopping and variable learning rate.\n",
    "    #early stop number param is used to set an early stopping value, if the error value remains the same over early_stop_number number of iterations, then to save unwanted extra computations, the learning is stopped.\n",
    "    #modify_lr is a flag variable. If it is set to True then as the error value keeps decreasing, the speed of learning increases, due to confidence that learning is going in the right direction.\n",
    "    #Incase the descent overshoots the minimal point, the error increases, we then reset the learning rate to the initial 0.00005 value.\n",
    "    m = start_m #initial slope\n",
    "    b = start_b #initial intercept\n",
    "    stop_number = 0 #initial early stopping iterator\n",
    "    error = [] #The error array.\n",
    "    modify_lr_num = 3 #The number of iterations in which error must decrease before increasing the learning rate.\n",
    "    er_decrease = 0 #The number of iterations in which learning rate has decreased continuously.\n",
    "    for i in range(num_iterations):\n",
    "        m, b = step_gradient(m, b, points, lr) #Get the new m and b vals.\n",
    "        er = compute_total_error(b,m,points) #Compute Mean Square error for new m,b\n",
    "        er = round(er,2) #Round to first 2 decimal places.\n",
    "        # print(er)\n",
    "        if i>=1 and error[len(error)-1] == er and early_stop_number != 0: #For early stopping\n",
    "            stop_number += 1\n",
    "            if stop_number == early_stop_number: #If early stopping does take place, then execute this code.\n",
    "                print('Executing early stopping')\n",
    "                break\n",
    "        else: #If there is a change after a few iterations but less than early_stop_number then reset to 0.\n",
    "            stop_number = 0\n",
    "\n",
    "        if modify_lr and er<compute_total_error(b,m,points): #For modified lr\n",
    "            er_decrease+=1 #er has decreased continuously.\n",
    "            if er_decrease%modify_lr_num == 0: #If there is continuous decrease for modify_lr_num times then increase lr.\n",
    "                print('Increasing lr for faster descent')\n",
    "                lr += 0.00002\n",
    "        else: #If there is no continuous decrease, reset values to defaults.\n",
    "            er_decrease = 0\n",
    "            lr = 0.00005\n",
    "        error.append(er) #Append the calculated error.\n",
    "\n",
    "    print('Finished with an lr of %f'%(lr))\n",
    "    return [m,b,error]\n",
    "\n",
    "def plot_line_data(points, m, b): #Plots the calculated line from m and b\n",
    "    X = points[:,0]\n",
    "    Y = points[:,1]\n",
    "    plt.plot(X, Y, 'bo') #First plots the data points\n",
    "    plt.plot(X, m * X + b) #Plot the line.\n",
    "    plt.axis([0,1.5* max(X), 0, 1.3 * max(Y)]) #Set the axes range.\n",
    "    plt.title(\"Best line.\")\n",
    "    plt.text(10, 130, \"m=\"+str(round(m,4))+\"  b=\"+str(round(b,4)))\n",
    "    plt.show() #shows the graph.\n",
    "    return\n",
    "\n",
    "def plot_error_data(error_value): #plots the error value decrease vs iterations.\n",
    "    num_iterations = range(len(error_value))\n",
    "    print('min_error and max_errors are %.2f, %.2f'%(min(error_value), max(error_value)))\n",
    "    plt.plot(num_iterations, error_value) #plots iterations vs error_value\n",
    "    plt.axis([0,1.5*max(num_iterations), min(error_value)-5, max(error_value) + 5])\n",
    "    plt.xlabel('iterations')\n",
    "    plt.ylabel('error_value')\n",
    "    plt.text(10,130,'Min_Error value is :'+str(min(error_value))) #Shows min error value.\n",
    "    plt.show() #shows the plot.\n",
    "    return\n",
    "\n",
    "def run(initial_m=0, initial_b = 1):\n",
    "    points = dp.get_data() #Retrieves data using the data_parser code.\n",
    "    learning_rate = 0.00005\n",
    "    #initial_b = 1 # initial y-intercept guess\n",
    "    #initial_m = 0 # initial slope guess\n",
    "    num_iterations = 1000\n",
    "    print(\"Starting gradient descent at b = {0}, m = {1}, error = {2}\".format(initial_b, initial_m, compute_total_error(initial_b, initial_m, points)))\n",
    "    print(\"Running...\")\n",
    "    [m, b, error] = gradient_descent_driver(points, initial_b, initial_m, learning_rate, num_iterations, early_stop_number = 5, modify_lr = True)\n",
    "    print(\"After {0} iterations b = {1}, m = {2}, error = {3}\".format(num_iterations, b, m, compute_total_error(b, m, points)))\n",
    "    plot_line_data(points, m, b)\n",
    "    plot_error_data(error)\n",
    "    return m,b"
   ]
  },
  {
   "cell_type": "code",
   "execution_count": 2,
   "metadata": {
    "collapsed": false
   },
   "outputs": [
    {
     "name": "stdout",
     "output_type": "stream",
     "text": [
      "Loaded df of size 100\n",
      "Starting gradient descent at b = 1, m = 0, error = 5420.637733375842\n",
      "Running...\n",
      "Increasing lr for faster descent\n",
      "Increasing lr for faster descent\n",
      "Increasing lr for faster descent\n",
      "Increasing lr for faster descent\n",
      "Executing early stopping\n",
      "Finished with an lr of 0.000070\n",
      "After 1000 iterations b = 0.010255281480601603, m = 1.4791537758855613, error = 112.66203471406898\n"
     ]
    },
    {
     "data": {
      "image/png": "[encoded data removed]",
      "text/plain": [
       "<matplotlib.figure.Figure at 0x7fc66046a4a8>"
      ]
     },
     "metadata": {},
     "output_type": "display_data"
    },
    {
     "name": "stdout",
     "output_type": "stream",
     "text": [
      "min_error and max_errors are 112.66, 435.50\n"
     ]
    },
    {
     "data": {
      "image/png": "[encoded data removed]",
      "text/plain": [
       "<matplotlib.figure.Figure at 0x7fc63d5dc1d0>"
      ]
     },
     "metadata": {},
     "output_type": "display_data"
    },
    {
     "data": {
      "text/plain": [
       "(1.4791537758855613, 0.010255281480601603)"
      ]
     },
     "execution_count": 2,
     "metadata": {},
     "output_type": "execute_result"
    }
   ],
   "source": [
    "run()"
   ]
  }
 ],
 "metadata": {
  "kernelspec": {
   "display_name": "Python 3",
   "language": "python",
   "name": "python3"
  },
  "language_info": {
   "codemirror_mode": {
    "name": "ipython",
    "version": 3
   },
   "file_extension": ".py",
   "mimetype": "text/x-python",
   "name": "python",
   "nbconvert_exporter": "python",
   "pygments_lexer": "ipython3",
   "version": "3.4.3"
  }
 },
 "nbformat": 4,
 "nbformat_minor": 1
}
