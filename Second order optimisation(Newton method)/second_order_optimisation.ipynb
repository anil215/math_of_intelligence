{
 "cells": [
  {
   "cell_type": "code",
   "execution_count": 1,
   "metadata": {
    "collapsed": false
   },
   "outputs": [
    {
     "name": "stdout",
     "output_type": "stream",
     "text": [
      "Loaded df of size 100\n"
     ]
    }
   ],
   "source": [
    "import numpy as np\n",
    "import matplotlib.pyplot as plt\n",
    "import data_parser as dp\n",
    "import time\n",
    "\n",
    "points = dp.get_data()\n",
    "\n",
    "def compute_total_error(m,b): #Computes total mean squared error\n",
    "    totalError = 0\n",
    "    for i in range(len(points)):\n",
    "        x = points[i,0]\n",
    "        y = points[i,1]\n",
    "        totalError += (y - (m * x + b)) ** 2 #Error is calculated as y' = mx + b(Assuming linear regression) so E = (y-y')^2, summed over all points\n",
    "\n",
    "    return totalError/float(len(points)) #Returning the mean squared error.\n",
    "\n",
    "def total_error(point_pair): #driver function for compute_total_error\n",
    "    return compute_total_error(point_pair[0], point_pair[1])\n",
    "\n",
    "def compute_jacobian(point_pair, h = 1e-5): #computes the jacobian of the function total_error\n",
    "    n = len(point_pair)\n",
    "    jacobian = np.zeros(n) #initialize the jacobian matrix\n",
    "    for i in range(n):\n",
    "        x_i = np.zeros(n)\n",
    "        x_i[i] += h #add the limit value, any small value > 0 should do\n",
    "        jacobian[i] = (total_error(point_pair+x_i) - total_error(point_pair))/h #calculate derivative using first principle method f'(x) = lt(h->0) (f(x+h) - f(x))/h\n",
    "    return jacobian #return the jacobian for the pair of points\n",
    "\n",
    "def compute_hessian(point_pair, h = 1e-5): #computes the hessian of the function total_error, it is found as the derivative of the jacobian\n",
    "    n = len(point_pair)\n",
    "    hessian = np.zeros((n,n)) #initialize the hessian matrix\n",
    "    for i in range(n):\n",
    "        x_i = np.zeros(n)\n",
    "        x_i[i] += h #add the limit value, any small value > 0 should do\n",
    "        hessian[i] = (compute_jacobian(point_pair+x_i) - compute_jacobian(point_pair))/h #calculate derivative using first principle method f'(x) = lt(h->0) (f(x+h) - f(x))/h\n",
    "\n",
    "    return hessian #return the hessian for the pair of points\n",
    "\n",
    "def compute_newton(init_points, max_iter = 10000, e = 1e-5): #calculate roots of the equation, i.e. find x if f(x) = 0. In our case we want to find the minima point, so we find f'(x) = 0\n",
    "    point_pair_arr = np.zeros((max_iter, len(init_points))) #initalize m,b values\n",
    "    point_pair_arr[0] = init_points #start points\n",
    "    opt_val = None #optimal_value to return\n",
    "    for i in range(max_iter):\n",
    "        jacobian = compute_jacobian(point_pair_arr[i]) #calculate the jacobian at current m,b\n",
    "        hessian = compute_hessian(point_pair_arr[i]) #calculate the hessian at current m,b\n",
    "        point_pair_arr[i+1] = point_pair_arr[i] - np.dot(np.linalg.pinv(hessian), jacobian) #calulate the new m, new b using newton's equation x(t+1) = x(t) - f(x(t))/f'(x(t)) but we want to find root of f'(x) so we would do x(t+1) = x(t) - f'(x(t))/f''(x(t))\n",
    "        #pinv is pseudo inverse, it prevents values like 1/0 and replaces it with a very high value.\n",
    "        print('New m is %.2f and new b is %.2f'%(point_pair_arr[i,0], point_pair_arr[i,1]))\n",
    "        opt_val = point_pair_arr[i+1]\n",
    "        if np.abs(total_error(point_pair_arr[i+1]) - total_error(point_pair_arr[i])) < e: #used for early stopping, stops when there is no real improvement.\n",
    "            print('Optimal m is %.2f and Optimal b is %.2f'%(point_pair_arr[i+1,0], point_pair_arr[i+1,1]))\n",
    "            break\n",
    "\n",
    "    return opt_val\n",
    "\n",
    "def plot_line_data(m, b): #Plots the calculated line from m and b\n",
    "    X = points[:,0]\n",
    "    Y = points[:,1]\n",
    "    plt.plot(X, Y, 'bo') #First plots the data points\n",
    "    plt.plot(X, m * X + b) #Plot the line.\n",
    "    plt.axis([0,1.5* max(X), 0, 1.3 * max(Y)]) #Set the axes range.\n",
    "    plt.title(\"Best line.\")\n",
    "    plt.text(10, 130, \"m=\"+str(round(m,4))+\"  b=\"+str(round(b,4)) + \" error=\"+str(compute_total_error(m,b)))\n",
    "    plt.show() #shows the graph.\n",
    "    return\n",
    "\n",
    "def main(): #main driver function\n",
    "    init_points = np.array([0.0,1.0]) #intial points\n",
    "    print(\"2nd order optimization starts at \"+ str(time.asctime())) #start time\n",
    "    time_t = time.time() #start time\n",
    "    newton_points = compute_newton(init_points, max_iter = 100) #find the solution\n",
    "    print(newton_points)\n",
    "    print(\"b = {0}, m = {1}, error = {2}\".format(newton_points[1], newton_points[0], compute_total_error(newton_points[0], newton_points[1])))\n",
    "    time_t = time.time() - time_t #end time\n",
    "    print(\"2nd order optimization ends at %s and has taken %dms\"%(str(time.asctime()), time_t))\n",
    "    plot_line_data(newton_points[0], newton_points[1]) #plot the line generated\n",
    "    return\n"
   ]
  },
  {
   "cell_type": "code",
   "execution_count": 3,
   "metadata": {
    "collapsed": false
   },
   "outputs": [
    {
     "name": "stdout",
     "output_type": "stream",
     "text": [
      "2nd order optimization starts at Sun Oct 22 00:59:50 2017\n",
      "New m is 0.00 and new b is 1.00\n",
      "New m is 1.36 and new b is 6.27\n",
      "New m is 1.32 and new b is 7.99\n",
      "Optimal m is 1.32 and Optimal b is 8.00\n",
      "[ 1.32229944  7.99746144]\n",
      "b = 7.997461437666465, m = 1.3222994410821038, error = 110.2573850944339\n",
      "2nd order optimization ends at Sun Oct 22 00:59:50 2017 and has taken 0ms\n"
     ]
    },
    {
     "data": {
      "image/png": "[encoded data removed]",
      "text/plain": [
       "<matplotlib.figure.Figure at 0x7fa5591fd7b8>"
      ]
     },
     "metadata": {},
     "output_type": "display_data"
    }
   ],
   "source": [
    "main()"
   ]
  }
 ],
 "metadata": {
  "kernelspec": {
   "display_name": "Python 3",
   "language": "python",
   "name": "python3"
  },
  "language_info": {
   "codemirror_mode": {
    "name": "ipython",
    "version": 3
   },
   "file_extension": ".py",
   "mimetype": "text/x-python",
   "name": "python",
   "nbconvert_exporter": "python",
   "pygments_lexer": "ipython3",
   "version": "3.4.3"
  }
 },
 "nbformat": 4,
 "nbformat_minor": 1
}
